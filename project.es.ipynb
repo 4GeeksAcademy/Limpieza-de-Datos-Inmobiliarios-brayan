{
  "cells": [
    {
      "attachments": {},
      "cell_type": "markdown",
      "id": "innocent-university",
      "metadata": {},
      "source": [
        "# Limpieza de bienes raíces\n",
        "\n",
        "Este es un conjunto de datos (dataset) reales que fue descargado usando técnicas de web scraping. La data contiene registros de **Fotocasa**, el cual es uno de los sitios más populares de bienes raíces en España. Por favor no hagas esto (web scraping) a no ser que sea para propósitos académicos.\n",
        "\n",
        "El dataset fue descargado hace algunos años por Henry Navarro y en ningún caso se obtuvo beneficio económico de ello.\n",
        "\n",
        "Contiene miles de datos de casas reales publicadas en la web www.fotocasa.com. Tu objetivo es extraer tanta información como sea posible con el conocimiento que tienes hasta ahora de ciencia de datos, por ejemplo ¿cuál es la casa más cara en todo el dataset?\n",
        "\n",
        "Empecemos precisamente con esa pregunta... ¡Buena suerte!"
      ]
    },
    {
      "attachments": {},
      "cell_type": "markdown",
      "id": "multiple-glass",
      "metadata": {},
      "source": [
        "#### Ejercicio 00. Lee el dataset assets/real_estate.csv e intenta visualizar la tabla (★☆☆)"
      ]
    },
    {
      "cell_type": "code",
      "execution_count": 55,
      "id": "frank-heath",
      "metadata": {},
      "outputs": [
        {
          "data": {
            "text/html": [
              "<div>\n",
              "<style scoped>\n",
              "    .dataframe tbody tr th:only-of-type {\n",
              "        vertical-align: middle;\n",
              "    }\n",
              "\n",
              "    .dataframe tbody tr th {\n",
              "        vertical-align: top;\n",
              "    }\n",
              "\n",
              "    .dataframe thead th {\n",
              "        text-align: right;\n",
              "    }\n",
              "</style>\n",
              "<table border=\"1\" class=\"dataframe\">\n",
              "  <thead>\n",
              "    <tr style=\"text-align: right;\">\n",
              "      <th></th>\n",
              "      <th>Unnamed: 0</th>\n",
              "      <th>id_realEstates</th>\n",
              "      <th>isNew</th>\n",
              "      <th>realEstate_name</th>\n",
              "      <th>phone_realEstate</th>\n",
              "      <th>url_inmueble</th>\n",
              "      <th>rooms</th>\n",
              "      <th>bathrooms</th>\n",
              "      <th>surface</th>\n",
              "      <th>price</th>\n",
              "      <th>...</th>\n",
              "      <th>level4Id</th>\n",
              "      <th>level5Id</th>\n",
              "      <th>level6Id</th>\n",
              "      <th>level7Id</th>\n",
              "      <th>level8Id</th>\n",
              "      <th>accuracy</th>\n",
              "      <th>latitude</th>\n",
              "      <th>longitude</th>\n",
              "      <th>zipCode</th>\n",
              "      <th>customZone</th>\n",
              "    </tr>\n",
              "  </thead>\n",
              "  <tbody>\n",
              "    <tr>\n",
              "      <th>0</th>\n",
              "      <td>1</td>\n",
              "      <td>153771986</td>\n",
              "      <td>False</td>\n",
              "      <td>ferrari 57 inmobiliaria</td>\n",
              "      <td>912177526.0</td>\n",
              "      <td>https://www.fotocasa.es/es/comprar/vivienda/ma...</td>\n",
              "      <td>3.0</td>\n",
              "      <td>2.0</td>\n",
              "      <td>103.0</td>\n",
              "      <td>195000</td>\n",
              "      <td>...</td>\n",
              "      <td>0</td>\n",
              "      <td>0</td>\n",
              "      <td>0</td>\n",
              "      <td>0</td>\n",
              "      <td>0</td>\n",
              "      <td>0</td>\n",
              "      <td>40,2948276786438</td>\n",
              "      <td>-3,44402412135624</td>\n",
              "      <td>NaN</td>\n",
              "      <td>NaN</td>\n",
              "    </tr>\n",
              "    <tr>\n",
              "      <th>1</th>\n",
              "      <td>2</td>\n",
              "      <td>153867863</td>\n",
              "      <td>False</td>\n",
              "      <td>tecnocasa fuenlabrada ferrocarril</td>\n",
              "      <td>916358736.0</td>\n",
              "      <td>https://www.fotocasa.es/es/comprar/vivienda/ma...</td>\n",
              "      <td>3.0</td>\n",
              "      <td>1.0</td>\n",
              "      <td>NaN</td>\n",
              "      <td>89000</td>\n",
              "      <td>...</td>\n",
              "      <td>0</td>\n",
              "      <td>0</td>\n",
              "      <td>0</td>\n",
              "      <td>0</td>\n",
              "      <td>0</td>\n",
              "      <td>1</td>\n",
              "      <td>40,28674</td>\n",
              "      <td>-3,79351</td>\n",
              "      <td>NaN</td>\n",
              "      <td>NaN</td>\n",
              "    </tr>\n",
              "    <tr>\n",
              "      <th>2</th>\n",
              "      <td>3</td>\n",
              "      <td>153430440</td>\n",
              "      <td>False</td>\n",
              "      <td>look find boadilla</td>\n",
              "      <td>916350408.0</td>\n",
              "      <td>https://www.fotocasa.es/es/comprar/vivienda/ma...</td>\n",
              "      <td>2.0</td>\n",
              "      <td>2.0</td>\n",
              "      <td>99.0</td>\n",
              "      <td>390000</td>\n",
              "      <td>...</td>\n",
              "      <td>0</td>\n",
              "      <td>0</td>\n",
              "      <td>0</td>\n",
              "      <td>0</td>\n",
              "      <td>0</td>\n",
              "      <td>0</td>\n",
              "      <td>40,4115646786438</td>\n",
              "      <td>-3,90662252135624</td>\n",
              "      <td>NaN</td>\n",
              "      <td>NaN</td>\n",
              "    </tr>\n",
              "    <tr>\n",
              "      <th>3</th>\n",
              "      <td>4</td>\n",
              "      <td>152776331</td>\n",
              "      <td>False</td>\n",
              "      <td>tecnocasa fuenlabrada ferrocarril</td>\n",
              "      <td>916358736.0</td>\n",
              "      <td>https://www.fotocasa.es/es/comprar/vivienda/ma...</td>\n",
              "      <td>3.0</td>\n",
              "      <td>1.0</td>\n",
              "      <td>86.0</td>\n",
              "      <td>89000</td>\n",
              "      <td>...</td>\n",
              "      <td>0</td>\n",
              "      <td>0</td>\n",
              "      <td>0</td>\n",
              "      <td>0</td>\n",
              "      <td>0</td>\n",
              "      <td>0</td>\n",
              "      <td>40,2853785786438</td>\n",
              "      <td>-3,79508142135624</td>\n",
              "      <td>NaN</td>\n",
              "      <td>NaN</td>\n",
              "    </tr>\n",
              "    <tr>\n",
              "      <th>4</th>\n",
              "      <td>5</td>\n",
              "      <td>153180188</td>\n",
              "      <td>False</td>\n",
              "      <td>ferrari 57 inmobiliaria</td>\n",
              "      <td>912177526.0</td>\n",
              "      <td>https://www.fotocasa.es/es/comprar/vivienda/ma...</td>\n",
              "      <td>2.0</td>\n",
              "      <td>2.0</td>\n",
              "      <td>106.0</td>\n",
              "      <td>172000</td>\n",
              "      <td>...</td>\n",
              "      <td>0</td>\n",
              "      <td>0</td>\n",
              "      <td>0</td>\n",
              "      <td>0</td>\n",
              "      <td>0</td>\n",
              "      <td>0</td>\n",
              "      <td>40,2998774864376</td>\n",
              "      <td>-3,45226301356237</td>\n",
              "      <td>NaN</td>\n",
              "      <td>NaN</td>\n",
              "    </tr>\n",
              "    <tr>\n",
              "      <th>...</th>\n",
              "      <td>...</td>\n",
              "      <td>...</td>\n",
              "      <td>...</td>\n",
              "      <td>...</td>\n",
              "      <td>...</td>\n",
              "      <td>...</td>\n",
              "      <td>...</td>\n",
              "      <td>...</td>\n",
              "      <td>...</td>\n",
              "      <td>...</td>\n",
              "      <td>...</td>\n",
              "      <td>...</td>\n",
              "      <td>...</td>\n",
              "      <td>...</td>\n",
              "      <td>...</td>\n",
              "      <td>...</td>\n",
              "      <td>...</td>\n",
              "      <td>...</td>\n",
              "      <td>...</td>\n",
              "      <td>...</td>\n",
              "      <td>...</td>\n",
              "    </tr>\n",
              "    <tr>\n",
              "      <th>15330</th>\n",
              "      <td>15331</td>\n",
              "      <td>153901377</td>\n",
              "      <td>False</td>\n",
              "      <td>infocasa consulting</td>\n",
              "      <td>911360461.0</td>\n",
              "      <td>https://www.fotocasa.es/es/comprar/vivienda/ma...</td>\n",
              "      <td>2.0</td>\n",
              "      <td>1.0</td>\n",
              "      <td>96.0</td>\n",
              "      <td>259470</td>\n",
              "      <td>...</td>\n",
              "      <td>0</td>\n",
              "      <td>0</td>\n",
              "      <td>0</td>\n",
              "      <td>0</td>\n",
              "      <td>0</td>\n",
              "      <td>0</td>\n",
              "      <td>40,45416</td>\n",
              "      <td>-3,70286</td>\n",
              "      <td>NaN</td>\n",
              "      <td>NaN</td>\n",
              "    </tr>\n",
              "    <tr>\n",
              "      <th>15331</th>\n",
              "      <td>15332</td>\n",
              "      <td>150394373</td>\n",
              "      <td>False</td>\n",
              "      <td>inmobiliaria pulpon</td>\n",
              "      <td>912788039.0</td>\n",
              "      <td>https://www.fotocasa.es/es/comprar/vivienda/ma...</td>\n",
              "      <td>3.0</td>\n",
              "      <td>1.0</td>\n",
              "      <td>150.0</td>\n",
              "      <td>165000</td>\n",
              "      <td>...</td>\n",
              "      <td>0</td>\n",
              "      <td>0</td>\n",
              "      <td>0</td>\n",
              "      <td>0</td>\n",
              "      <td>0</td>\n",
              "      <td>0</td>\n",
              "      <td>40,36652</td>\n",
              "      <td>-3,48951</td>\n",
              "      <td>NaN</td>\n",
              "      <td>NaN</td>\n",
              "    </tr>\n",
              "    <tr>\n",
              "      <th>15332</th>\n",
              "      <td>15333</td>\n",
              "      <td>153901397</td>\n",
              "      <td>False</td>\n",
              "      <td>tecnocasa torrelodones</td>\n",
              "      <td>912780348.0</td>\n",
              "      <td>https://www.fotocasa.es/es/comprar/vivienda/ma...</td>\n",
              "      <td>4.0</td>\n",
              "      <td>2.0</td>\n",
              "      <td>175.0</td>\n",
              "      <td>495000</td>\n",
              "      <td>...</td>\n",
              "      <td>0</td>\n",
              "      <td>0</td>\n",
              "      <td>0</td>\n",
              "      <td>0</td>\n",
              "      <td>0</td>\n",
              "      <td>0</td>\n",
              "      <td>40,57444</td>\n",
              "      <td>-3,92124</td>\n",
              "      <td>NaN</td>\n",
              "      <td>NaN</td>\n",
              "    </tr>\n",
              "    <tr>\n",
              "      <th>15333</th>\n",
              "      <td>15334</td>\n",
              "      <td>152607440</td>\n",
              "      <td>False</td>\n",
              "      <td>inmobiliaria pulpon</td>\n",
              "      <td>912788039.0</td>\n",
              "      <td>https://www.fotocasa.es/es/comprar/vivienda/ma...</td>\n",
              "      <td>3.0</td>\n",
              "      <td>2.0</td>\n",
              "      <td>101.0</td>\n",
              "      <td>195000</td>\n",
              "      <td>...</td>\n",
              "      <td>0</td>\n",
              "      <td>0</td>\n",
              "      <td>0</td>\n",
              "      <td>0</td>\n",
              "      <td>0</td>\n",
              "      <td>0</td>\n",
              "      <td>40,36967</td>\n",
              "      <td>-3,48105</td>\n",
              "      <td>NaN</td>\n",
              "      <td>NaN</td>\n",
              "    </tr>\n",
              "    <tr>\n",
              "      <th>15334</th>\n",
              "      <td>15335</td>\n",
              "      <td>153901356</td>\n",
              "      <td>False</td>\n",
              "      <td>infocasa consulting</td>\n",
              "      <td>911360461.0</td>\n",
              "      <td>https://www.fotocasa.es/es/comprar/vivienda/ma...</td>\n",
              "      <td>3.0</td>\n",
              "      <td>2.0</td>\n",
              "      <td>152.0</td>\n",
              "      <td>765000</td>\n",
              "      <td>...</td>\n",
              "      <td>0</td>\n",
              "      <td>0</td>\n",
              "      <td>0</td>\n",
              "      <td>0</td>\n",
              "      <td>0</td>\n",
              "      <td>0</td>\n",
              "      <td>40,45773</td>\n",
              "      <td>-3,69068</td>\n",
              "      <td>NaN</td>\n",
              "      <td>NaN</td>\n",
              "    </tr>\n",
              "  </tbody>\n",
              "</table>\n",
              "<p>15335 rows × 37 columns</p>\n",
              "</div>"
            ],
            "text/plain": [
              "       Unnamed: 0  id_realEstates  isNew                    realEstate_name  \\\n",
              "0               1       153771986  False            ferrari 57 inmobiliaria   \n",
              "1               2       153867863  False  tecnocasa fuenlabrada ferrocarril   \n",
              "2               3       153430440  False                 look find boadilla   \n",
              "3               4       152776331  False  tecnocasa fuenlabrada ferrocarril   \n",
              "4               5       153180188  False            ferrari 57 inmobiliaria   \n",
              "...           ...             ...    ...                                ...   \n",
              "15330       15331       153901377  False                infocasa consulting   \n",
              "15331       15332       150394373  False                inmobiliaria pulpon   \n",
              "15332       15333       153901397  False             tecnocasa torrelodones   \n",
              "15333       15334       152607440  False                inmobiliaria pulpon   \n",
              "15334       15335       153901356  False                infocasa consulting   \n",
              "\n",
              "       phone_realEstate                                       url_inmueble  \\\n",
              "0           912177526.0  https://www.fotocasa.es/es/comprar/vivienda/ma...   \n",
              "1           916358736.0  https://www.fotocasa.es/es/comprar/vivienda/ma...   \n",
              "2           916350408.0  https://www.fotocasa.es/es/comprar/vivienda/ma...   \n",
              "3           916358736.0  https://www.fotocasa.es/es/comprar/vivienda/ma...   \n",
              "4           912177526.0  https://www.fotocasa.es/es/comprar/vivienda/ma...   \n",
              "...                 ...                                                ...   \n",
              "15330       911360461.0  https://www.fotocasa.es/es/comprar/vivienda/ma...   \n",
              "15331       912788039.0  https://www.fotocasa.es/es/comprar/vivienda/ma...   \n",
              "15332       912780348.0  https://www.fotocasa.es/es/comprar/vivienda/ma...   \n",
              "15333       912788039.0  https://www.fotocasa.es/es/comprar/vivienda/ma...   \n",
              "15334       911360461.0  https://www.fotocasa.es/es/comprar/vivienda/ma...   \n",
              "\n",
              "       rooms  bathrooms  surface   price  ... level4Id level5Id level6Id  \\\n",
              "0        3.0        2.0    103.0  195000  ...        0        0        0   \n",
              "1        3.0        1.0      NaN   89000  ...        0        0        0   \n",
              "2        2.0        2.0     99.0  390000  ...        0        0        0   \n",
              "3        3.0        1.0     86.0   89000  ...        0        0        0   \n",
              "4        2.0        2.0    106.0  172000  ...        0        0        0   \n",
              "...      ...        ...      ...     ...  ...      ...      ...      ...   \n",
              "15330    2.0        1.0     96.0  259470  ...        0        0        0   \n",
              "15331    3.0        1.0    150.0  165000  ...        0        0        0   \n",
              "15332    4.0        2.0    175.0  495000  ...        0        0        0   \n",
              "15333    3.0        2.0    101.0  195000  ...        0        0        0   \n",
              "15334    3.0        2.0    152.0  765000  ...        0        0        0   \n",
              "\n",
              "      level7Id level8Id accuracy          latitude          longitude zipCode  \\\n",
              "0            0        0        0  40,2948276786438  -3,44402412135624     NaN   \n",
              "1            0        0        1          40,28674           -3,79351     NaN   \n",
              "2            0        0        0  40,4115646786438  -3,90662252135624     NaN   \n",
              "3            0        0        0  40,2853785786438  -3,79508142135624     NaN   \n",
              "4            0        0        0  40,2998774864376  -3,45226301356237     NaN   \n",
              "...        ...      ...      ...               ...                ...     ...   \n",
              "15330        0        0        0          40,45416           -3,70286     NaN   \n",
              "15331        0        0        0          40,36652           -3,48951     NaN   \n",
              "15332        0        0        0          40,57444           -3,92124     NaN   \n",
              "15333        0        0        0          40,36967           -3,48105     NaN   \n",
              "15334        0        0        0          40,45773           -3,69068     NaN   \n",
              "\n",
              "      customZone  \n",
              "0            NaN  \n",
              "1            NaN  \n",
              "2            NaN  \n",
              "3            NaN  \n",
              "4            NaN  \n",
              "...          ...  \n",
              "15330        NaN  \n",
              "15331        NaN  \n",
              "15332        NaN  \n",
              "15333        NaN  \n",
              "15334        NaN  \n",
              "\n",
              "[15335 rows x 37 columns]"
            ]
          },
          "execution_count": 55,
          "metadata": {},
          "output_type": "execute_result"
        }
      ],
      "source": [
        "import pandas as pd\n",
        "\n",
        "# Este archivo CSV contiene puntos y comas en lugar de comas como separadores\n",
        "ds = pd.read_csv('assets/real_estate.csv', sep=';')\n",
        "ds"
      ]
    },
    {
      "attachments": {},
      "cell_type": "markdown",
      "id": "latin-guest",
      "metadata": {},
      "source": [
        "#### Ejercicio 01. ¿Cuál es la casa más cara en todo el dataset? (★☆☆)\n",
        "\n",
        "Imprime la dirección y el precio de la casa seleccionada. Por ejemplo:\n",
        "\n",
        "`La casa con dirección en Calle del Prado, Nº20 es la más cara y su precio es de 5000000 USD`"
      ]
    },
    {
      "cell_type": "code",
      "execution_count": 56,
      "id": "developing-optimum",
      "metadata": {},
      "outputs": [
        {
          "name": "stdout",
          "output_type": "stream",
          "text": [
            "Unnamed: 0                                                      13111\n",
            "id_realEstates                                              132042636\n",
            "isNew                                                           False\n",
            "realEstate_name                            engel volkers torrelodones\n",
            "phone_realEstate                                          911798512.0\n",
            "url_inmueble        https://www.fotocasa.es/es/comprar/vivienda/vi...\n",
            "rooms                                                            19.0\n",
            "bathrooms                                                         NaN\n",
            "surface                                                           NaN\n",
            "price                                                         8500000\n",
            "date                                             2019-12-19T12:29:00Z\n",
            "description         El Palacio de El Enebral, la finca fue propied...\n",
            "address                                                   El Escorial\n",
            "country                                                        España\n",
            "level1                                                         Madrid\n",
            "level2                                                         Madrid\n",
            "level3                                                  Zona Noroeste\n",
            "level4                                           El Escorial, Zona de\n",
            "level5                                                    El Escorial\n",
            "level6                                                            NaN\n",
            "level7                                             Centro - Manquilla\n",
            "level8                                                            NaN\n",
            "upperLevel                                         Centro - Manquilla\n",
            "countryId                                                           0\n",
            "level1Id                                                            0\n",
            "level2Id                                                            0\n",
            "level3Id                                                            0\n",
            "level4Id                                                            0\n",
            "level5Id                                                            0\n",
            "level6Id                                                            0\n",
            "level7Id                                                            0\n",
            "level8Id                                                            0\n",
            "accuracy                                                            0\n",
            "latitude                                             40,5830801751782\n",
            "longitude                                           -4,12951942848611\n",
            "zipCode                                                           NaN\n",
            "customZone                                                        NaN\n",
            "Name: 13110, dtype: object\n",
            "La casa con dirección en Madrid es la más cara y su precio es de 8500000 USD\n"
          ]
        }
      ],
      "source": [
        "# TODO \n",
        "casa_mas_cara = ds.loc[ds['price'].idxmax()]\n",
        "print(casa_mas_cara)\n",
        "print(f\"La casa con dirección en {casa_mas_cara['level2']} es la más cara y su precio es de {casa_mas_cara['price']} USD\")"
      ]
    },
    {
      "attachments": {},
      "cell_type": "markdown",
      "id": "lesser-cosmetic",
      "metadata": {},
      "source": [
        "#### Ejercicio 02. ¿Cuál es la casa más barata del dataset? (★☆☆)\n",
        "\n",
        "Imprime la dirección y el precio de la casa seleccionada. Por ejemplo:\n",
        "\n",
        "`La casa con dirección en Calle Alcalá, Nº58 es la más barata y su precio es de 12000 USD`"
      ]
    },
    {
      "cell_type": "code",
      "execution_count": 57,
      "id": "37eef016",
      "metadata": {},
      "outputs": [
        {
          "name": "stdout",
          "output_type": "stream",
          "text": [
            "La casa con dirección en Madrid es la más barata y su precio es de 0 USD\n"
          ]
        }
      ],
      "source": [
        "la_casa_mas_barata = ds.loc[ds['price'].idxmin()]\n",
        "print(f\"La casa con dirección en {la_casa_mas_barata['level2']} es la más barata y su precio es de {la_casa_mas_barata['price']} USD\")"
      ]
    },
    {
      "attachments": {},
      "cell_type": "markdown",
      "id": "compliant-fellowship",
      "metadata": {},
      "source": [
        "#### Ejercicio 03. ¿Cuál es la casa más grande y la más pequeña del dataset? (★☆☆)\n",
        "\n",
        "Imprime la dirección y el área de las casas seleccionadas. Por ejemplo:\n",
        "\n",
        "`La casa más grande está ubicada en Calle Gran Vía, Nº38 y su superficie es de 5000 metros`\n",
        "\n",
        "`La casa más pequeña está ubicada en Calle Mayor, Nº12 y su superficie es de 200 metros`"
      ]
    },
    {
      "cell_type": "code",
      "execution_count": 58,
      "id": "every-tiffany",
      "metadata": {},
      "outputs": [
        {
          "name": "stdout",
          "output_type": "stream",
          "text": [
            "La casa mas grande esta ubicada en Madrid y su superficie es de 249000.0 metros\n",
            "La casa mas pequeña esta ubicada en Madrid y su superficie es de 15.0 metros\n"
          ]
        }
      ],
      "source": [
        "# TODO\n",
        "casa_mas_grande = ds.loc[ds['surface'].idxmax()]\n",
        "print(f\"La casa mas grande esta ubicada en {casa_mas_grande['level2']} y su superficie es de {casa_mas_grande['surface']} metros\")\n",
        "la_casa_mas_pequeña = ds.loc[ds['surface'].idxmin()]\n",
        "print(f\"La casa mas pequeña esta ubicada en {la_casa_mas_pequeña['level2']} y su superficie es de {la_casa_mas_pequeña['surface']} metros\")"
      ]
    },
    {
      "attachments": {},
      "cell_type": "markdown",
      "id": "danish-spirit",
      "metadata": {},
      "source": [
        "#### Ejercicio 04. ¿Cuantas poblaciones (columna level5) contiene el dataset? (★☆☆)\n",
        "\n",
        "Imprime el nombre de las poblaciones separadas por coma. Por ejemplo:\n",
        "\n",
        "`> print(populations)`\n",
        "\n",
        "`population1, population2, population3, ...`"
      ]
    },
    {
      "cell_type": "code",
      "execution_count": 59,
      "id": "exciting-accreditation",
      "metadata": {},
      "outputs": [
        {
          "name": "stdout",
          "output_type": "stream",
          "text": [
            "Arganda del Rey, Fuenlabrada, Boadilla del Monte, Las Rozas de Madrid,  Madrid Capital, Villaviciosa de Odón, Pinto, Valdemoro, Navalcarnero, Pozuelo de Alarcón, Torrejón de Ardoz, Navalagamella, San Sebastián de los Reyes, Rivas-vaciamadrid, Alpedrete, Móstoles, San Fernando de Henares, Coslada, Becerril de la Sierra, Alcalá de Henares, Chinchón, Parla, Alcorcón, El Escorial, Leganés, Pedrezuela, Majadahonda, Villanueva de la Cañada, Villanueva del Pardillo, Torrelodones, Moralzarzal, Mejorada del Campo, Aranjuez, Corpa, Getafe, Velilla de San Antonio, Sevilla la Nueva, San Martín de la Vega, Villalbilla, Collado Villalba, Alcobendas, El Molar (Madrid), Moraleja de Enmedio, Algete, Campo Real, Torrejón de la Calzada, Colmenar Viejo, Valdemorillo, Fuente El Saz de Jarama, Tres Cantos, Arroyomolinos (Madrid), Griñón, Paracuellos de Jarama, Guadarrama, Titulcia, Galapagar, Collado Mediano, Los Molinos, San Lorenzo de El Escorial, Loeches, San Martín de Valdeiglesias, Navas del Rey, Bustarviejo, Manzanares El Real, Carabaña, Casarrubuelos, Cercedilla, Fresnedillas de la Oliva, Valdemaqueda, Robledo de Chavela, Miraflores de la Sierra, Humanes de Madrid, Valdetorres de Jarama, San Agustín del Guadalix, Ciempozuelos, Camarma de Esteruelas, Torres de la Alameda, Talamanca de Jarama, El Atazar, Hoyo de Manzanares, El Boalo - Cerceda – Mataelpino, El Álamo, Valdilecha, Valdeolmos-Alalpardo, Guadalix de la Sierra, Belmonte de Tajo, El Vellón, Brunete, Redueña, Morata de Tajuña, Tielmes, Gargantilla del Lozoya, Meco, Venturada, Quijorna, Cenicientos, Torrejón de Velasco, Navacerrada, Santa María de la Alameda, Orusco de Tajuña, Daganzo de Arriba, Villamanta, Anchuelo, Valdaracete, Ajalvir, Los Santos de la Humosa, Villamanrique de Tajo, Colmenar de Oreja, Villa del Prado, Fuentidueña de Tajo, Colmenar del Arroyo, Valdelaguna, Cubas de la Sagra, Valdeavero, Aldea del Fresno, Ribatejada, Torrelaguna, Batres, Pezuela de las Torres, Colmenarejo, Serranillos del Valle, Cobeña, Soto del Real, El Berrueco, Villanueva de Perales, Fresno de Torote - Serracines, Pozuelo del Rey, Pelayos de la Presa, La Cabrera, Nuevo Baztán, Perales de Tajuña, Villaconejos, Villarejo de Salvanés, Cadalso de los Vidrios, Santorcaz, Madarcos, Garganta de los Montes, Puentes Viejas, Torremocha de Jarama, Valdemanco, Braojos, Lozoyuela-navas-sieteiglesias, Piñuécar-gandullas, Valdepiélagos, Valverde de Alcalá, Villar del Olmo, Villamantilla, Horcajo de la Sierra, Gascones, Zarzalejo, Villavieja del Lozoya, Brea de Tajo, Estremera, Chapinería, Navarredonda, Patones, Ambite, Navalafuente, Lozoya, Canencia, Cabanillas de la Sierra, Buitrago del Lozoya, Fresno de Torote, Robregordo, Pinilla del Valle, Rascafría, La Hiruela, Montejo de la Sierra\n"
          ]
        }
      ],
      "source": [
        "# TODO\n",
        "poblaciones_unicas = ds['level5'].unique()\n",
        "nombres = ', '.join(poblaciones_unicas)\n",
        "print(nombres)"
      ]
    },
    {
      "attachments": {},
      "cell_type": "markdown",
      "id": "crazy-blame",
      "metadata": {},
      "source": [
        "#### Ejercicio 05. ¿El dataset contiene valores no admitidos (NAs)? (★☆☆)\n",
        "\n",
        "Imprima un booleano (`True` o `False`) seguido de la fila/columna que contiene el NAs."
      ]
    },
    {
      "cell_type": "code",
      "execution_count": 60,
      "id": "transparent-poetry",
      "metadata": {},
      "outputs": [
        {
          "name": "stdout",
          "output_type": "stream",
          "text": [
            "El dataset contiene valores NAs.\n",
            "Columnas con NAs:\n",
            "realEstate_name        10\n",
            "phone_realEstate      794\n",
            "rooms                 353\n",
            "bathrooms             345\n",
            "surface              1250\n",
            "description           142\n",
            "level4               6643\n",
            "level6              14627\n",
            "level7               2277\n",
            "level8               8579\n",
            "zipCode             15335\n",
            "customZone          15335\n",
            "dtype: int64\n"
          ]
        }
      ],
      "source": [
        "# TODO\n",
        "# Revisar si hay valores NAs en el dataset\n",
        "tiene_nas = ds.isnull().values.any()\n",
        "\n",
        "# Si hay NAs, mostrar las filas y columnas que contienen \n",
        "if tiene_nas:\n",
        "    print(\"El dataset contiene valores NAs.\")\n",
        "    print(\"Columnas con NAs:\")\n",
        "    print(ds.isnull().sum()[ds.isnull().sum() > 0])\n",
        "else:\n",
        "    print(\"El dataset no contiene valores NAs.\")"
      ]
    },
    {
      "attachments": {},
      "cell_type": "markdown",
      "id": "italic-hydrogen",
      "metadata": {},
      "source": [
        "#### Ejercicio 06. Elimina los NAs del dataset, si aplica (★★☆)\n",
        "\n",
        "Imprima una comparación entre las dimensiones del DataFrame original versus el DataFrame después de las eliminaciones.\n"
      ]
    },
    {
      "cell_type": "code",
      "execution_count": 61,
      "id": "administrative-roads",
      "metadata": {},
      "outputs": [
        {
          "name": "stdout",
          "output_type": "stream",
          "text": [
            "Empty DataFrame\n",
            "Columns: [Unnamed: 0, id_realEstates, isNew, realEstate_name, phone_realEstate, url_inmueble, rooms, bathrooms, surface, price, date, description, address, country, level1, level2, level3, level4, level5, level6, level7, level8, upperLevel, countryId, level1Id, level2Id, level3Id, level4Id, level5Id, level6Id, level7Id, level8Id, accuracy, latitude, longitude, zipCode, customZone]\n",
            "Index: []\n",
            "\n",
            "[0 rows x 37 columns]\n"
          ]
        }
      ],
      "source": [
        "# TODO\n",
        "ds_sin_nas = ds.dropna()\n",
        "print(ds_sin_nas)"
      ]
    },
    {
      "attachments": {},
      "cell_type": "markdown",
      "id": "middle-china",
      "metadata": {},
      "source": [
        "#### Ejercicio 07. ¿Cuál la media de precios en la población (columna level5) de \"Arroyomolinos (Madrid)\"? (★★☆)\n",
        "\n",
        "Imprima el valor obtenido."
      ]
    },
    {
      "cell_type": "code",
      "execution_count": 62,
      "id": "nuclear-belief",
      "metadata": {},
      "outputs": [
        {
          "name": "stdout",
          "output_type": "stream",
          "text": [
            "La media de precios en 'Arroyomolinos (Madrid)' es de 294541.60 USD\n"
          ]
        }
      ],
      "source": [
        "# TODO\n",
        "arroyomolinos = ds[ds['level5'] == \"Arroyomolinos (Madrid)\"]\n",
        "media_precio = arroyomolinos['price'].mean()\n",
        "print(f\"La media de precios en 'Arroyomolinos (Madrid)' es de {media_precio:.2f} USD\")"
      ]
    },
    {
      "attachments": {},
      "cell_type": "markdown",
      "id": "concerned-radical",
      "metadata": {},
      "source": [
        "#### Ejercicio 08. Trazar el histograma de los precios para la población (level5 column) de \"Arroyomolinos (Madrid)\" y explica qué observas (★★☆)\n",
        "\n",
        "Imprime el histograma de los precios y escribe en la celda del Markdown un breve análisis del trazado.\n"
      ]
    },
    {
      "cell_type": "code",
      "execution_count": 63,
      "id": "sudden-message",
      "metadata": {},
      "outputs": [
        {
          "data": {
            "image/png": "[encoded data removed]",
            "text/plain": [
              "<Figure size 640x480 with 1 Axes>"
            ]
          },
          "metadata": {},
          "output_type": "display_data"
        }
      ],
      "source": [
        "# TODO: Code\n",
        "import matplotlib.pyplot as plt\n",
        "arroyomolinos = ds[ds['level5'] == \"Arroyomolinos (Madrid)\"]\n",
        "\n",
        "plt.hist(arroyomolinos['price'], bins=10, edgecolor='black')\n",
        "plt.title('Histograma de Precios en Arroyomolinos (Madrid)')\n",
        "plt.xlabel('Precio')\n",
        "plt.ylabel('Frecuencia')\n",
        "plt.show()"
      ]
    },
    {
      "attachments": {},
      "cell_type": "markdown",
      "id": "impressed-combination",
      "metadata": {},
      "source": [
        "**TODO: Markdown**. Para escribir aquí, haz doble clic en esta celda, elimina este contenido y coloca lo que quieras escribir. Luego ejecuta la celda."
      ]
    },
    {
      "attachments": {},
      "cell_type": "markdown",
      "id": "actual-edinburgh",
      "metadata": {},
      "source": [
        "#### Ejercicio 09. ¿Son los precios promedios de \"Valdemorillo\" y \"Galapagar\" los mismos? (★★☆)\n",
        "\n",
        "Imprime ambos promedios y escribe una conclusión sobre ellos."
      ]
    },
    {
      "cell_type": "code",
      "execution_count": 64,
      "id": "numeric-commerce",
      "metadata": {},
      "outputs": [
        {
          "name": "stdout",
          "output_type": "stream",
          "text": [
            "El precio promedio en Valdemorillo es de 363860.29 USD\n",
            "El precio promedio en Galapagar es de 360063.20 USD\n",
            "Los precios promedios en Valdemorillo y Galapagar son diferentes.\n"
          ]
        }
      ],
      "source": [
        "# TODO\n",
        "valdemorillo = ds[ds['level5'] == \"Valdemorillo\"]\n",
        "galapagar = ds[ds['level5'] == \"Galapagar\"]\n",
        "\n",
        "# precios promedio\n",
        "promedio_valdemorillo = valdemorillo['price'].mean()\n",
        "promedio_galapagar = galapagar['price'].mean()\n",
        "\n",
        "# resultados\n",
        "print(f\"El precio promedio en Valdemorillo es de {promedio_valdemorillo:.2f} USD\")\n",
        "print(f\"El precio promedio en Galapagar es de {promedio_galapagar:.2f} USD\")\n",
        "\n",
        "# precios iguales o diferentes\n",
        "if promedio_valdemorillo == promedio_galapagar:\n",
        "    print(\"Los precios promedios en Valdemorillo y Galapagar son iguales.\")\n",
        "else:\n",
        "    print(\"Los precios promedios en Valdemorillo y Galapagar son diferentes.\")"
      ]
    },
    {
      "attachments": {},
      "cell_type": "markdown",
      "id": "lonely-article",
      "metadata": {},
      "source": [
        "#### Ejercicio 10. ¿Son los promedios de precio por metro cuadrado (precio/m2) de \"Valdemorillo\" y \"Galapagar\" los mismos? (★★☆)\n",
        "\n",
        "Imprime ambos promedios de precio por metro cuadrado y escribe una conclusión sobre ellos.\n",
        "\n",
        "Pista: Crea una nueva columna llamada `pps` (*price per square* o precio por metro cuadrado) y luego analiza los valores."
      ]
    },
    {
      "cell_type": "code",
      "execution_count": 65,
      "id": "hourly-globe",
      "metadata": {},
      "outputs": [
        {
          "name": "stdout",
          "output_type": "stream",
          "text": [
            "El precio promedio por metro cuadrado en Valdemorillo es de 1317.95 USD/m²\n",
            "El precio promedio por metro cuadrado en Galapagar es de 1606.32 USD/m²\n"
          ]
        }
      ],
      "source": [
        "# TODO\n",
        "\n",
        "ds['pps'] = ds['price'] / ds['surface']\n",
        "# precio por metro 1\n",
        "valdemorillo = ds[ds['level5'] == \"Valdemorillo\"]\n",
        "galapagar = ds[ds['level5'] == \"Galapagar\"]\n",
        "# precio por metro 2\n",
        "promedio_pps_valdemorillo = valdemorillo['pps'].mean()\n",
        "promedio_pps_galapagar = galapagar['pps'].mean()\n",
        "# resultados\n",
        "print(f\"El precio promedio por metro cuadrado en Valdemorillo es de {promedio_pps_valdemorillo:.2f} USD/m²\")\n",
        "print(f\"El precio promedio por metro cuadrado en Galapagar es de {promedio_pps_galapagar:.2f} USD/m²\")"
      ]
    },
    {
      "attachments": {},
      "cell_type": "markdown",
      "id": "pleasant-invite",
      "metadata": {},
      "source": [
        "#### Ejercicio 11. Analiza la relación entre la superficie y el precio de las casas. (★★☆)\n",
        "\n",
        "Pista: Puedes hacer un `scatter plot` y luego escribir una conclusión al respecto."
      ]
    },
    {
      "cell_type": "code",
      "execution_count": 66,
      "id": "common-drilling",
      "metadata": {},
      "outputs": [
        {
          "data": {
            "image/png": "[encoded data removed]",
            "text/plain": [
              "<Figure size 640x480 with 1 Axes>"
            ]
          },
          "metadata": {},
          "output_type": "display_data"
        },
        {
          "name": "stdout",
          "output_type": "stream",
          "text": [
            "Correlación: 0.05\n"
          ]
        }
      ],
      "source": [
        "# TODO: Código\n",
        "plt.scatter(ds['surface'], ds['price'])\n",
        "plt.title('Relación entre Superficie y Precio')\n",
        "plt.xlabel('superficie')\n",
        "plt.ylabel('precio')\n",
        "plt.show()\n",
        "\n",
        "correlacion = ds['surface'].corr(ds['price'])\n",
        "print(f\"Correlación: {correlacion:.2f}\")"
      ]
    },
    {
      "attachments": {},
      "cell_type": "markdown",
      "id": "ahead-liquid",
      "metadata": {},
      "source": [
        "**TODO: Markdown**. Para escribir aquí, haz doble clic en esta celda, elimina este contenido y coloca lo que quieras escribir. Luego ejecuta la celda."
      ]
    },
    {
      "attachments": {},
      "cell_type": "markdown",
      "id": "coordinate-sunrise",
      "metadata": {},
      "source": [
        "#### Ejercicio 12. ¿Cuántas agencia de bienes raíces contiene el dataset? (★★☆)\n",
        "\n",
        "Imprime el valor obtenido."
      ]
    },
    {
      "cell_type": "code",
      "execution_count": 67,
      "id": "valid-honolulu",
      "metadata": {},
      "outputs": [
        {
          "name": "stdout",
          "output_type": "stream",
          "text": [
            "El dataset contiene 247 agencias de bienes raíces únicas.\n"
          ]
        }
      ],
      "source": [
        "# TODO\n",
        "agencias_unicas = ds['level7'].nunique()\n",
        "\n",
        "print(f\"El dataset contiene {agencias_unicas} agencias de bienes raíces únicas.\")"
      ]
    },
    {
      "attachments": {},
      "cell_type": "markdown",
      "id": "binding-ebony",
      "metadata": {},
      "source": [
        "#### Ejercicio 13. ¿Cuál es la población (columna level5) que contiene la mayor cantidad de casas?(★★☆)\n",
        "\n",
        "Imprima la población y el número de casas."
      ]
    },
    {
      "cell_type": "code",
      "execution_count": 68,
      "id": "static-perry",
      "metadata": {},
      "outputs": [
        {
          "name": "stdout",
          "output_type": "stream",
          "text": [
            "La población con la mayor cantidad de casas es:\n",
            "Unnamed: 0                                                       7193\n",
            "id_realEstates                                              153918372\n",
            "isNew                                                           False\n",
            "realEstate_name                                                   NaN\n",
            "phone_realEstate                                                  NaN\n",
            "url_inmueble        https://www.fotocasa.es/es/comprar/vivienda/al...\n",
            "rooms                                                             1.0\n",
            "bathrooms                                                         1.0\n",
            "surface                                                          67.0\n",
            "price                                                          130000\n",
            "date                                             2019-12-25T04:30:00Z\n",
            "description         Vendemos chalet unifamiliar en zarzalejo estac...\n",
            "address                                    Calle Muelle, 7, Zarzalejo\n",
            "country                                                        España\n",
            "level1                                                         Madrid\n",
            "level2                                                         Madrid\n",
            "level3                                                  Zona Suroeste\n",
            "level4                                                       Resto A5\n",
            "level5                                                      Zarzalejo\n",
            "level6                                                            NaN\n",
            "level7                                                            NaN\n",
            "level8                                                            NaN\n",
            "upperLevel                                                  Zarzalejo\n",
            "countryId                                                           0\n",
            "level1Id                                                            0\n",
            "level2Id                                                            0\n",
            "level3Id                                                            0\n",
            "level4Id                                                            0\n",
            "level5Id                                                            0\n",
            "level6Id                                                            0\n",
            "level7Id                                                            0\n",
            "level8Id                                                            0\n",
            "accuracy                                                            1\n",
            "latitude                                                     40,53933\n",
            "longitude                                                    -4,15748\n",
            "zipCode                                                           NaN\n",
            "customZone                                                        NaN\n",
            "pps                                                       1940.298507\n",
            "Name: 7192, dtype: object\n"
          ]
        }
      ],
      "source": [
        "# TODO\n",
        "poblacion_con_mas_casas = ds.loc[ds['level5'].idxmax()]\n",
        "\n",
        "print(\"La población con la mayor cantidad de casas es:\")\n",
        "print(poblacion_con_mas_casas)"
      ]
    },
    {
      "attachments": {},
      "cell_type": "markdown",
      "id": "entire-classification",
      "metadata": {},
      "source": [
        "#### Ejercicio 14. Ahora vamos a trabajar con el \"cinturón sur\" de Madrid. Haz un subconjunto del DataFrame original que contenga las siguientes poblaciones (columna level5): \"Fuenlabrada\", \"Leganés\", \"Getafe\", \"Alcorcón\" (★★☆)\n",
        "\n",
        "Pista: Filtra el DataFrame original usando la columna `level5` y la función `isin`."
      ]
    },
    {
      "cell_type": "code",
      "execution_count": 69,
      "id": "binary-input",
      "metadata": {},
      "outputs": [
        {
          "name": "stdout",
          "output_type": "stream",
          "text": [
            "       Unnamed: 0  id_realEstates  isNew  \\\n",
            "1               2       153867863  False   \n",
            "3               4       152776331  False   \n",
            "85             86       153152077  False   \n",
            "94             95       153995577  False   \n",
            "109           110       153586414  False   \n",
            "...           ...             ...    ...   \n",
            "15275       15276       153903887  False   \n",
            "15291       15292       151697757  False   \n",
            "15305       15306       153902389  False   \n",
            "15322       15323       153871864  False   \n",
            "15325       15326       153901467  False   \n",
            "\n",
            "                                 realEstate_name  phone_realEstate  \\\n",
            "1              tecnocasa fuenlabrada ferrocarril       916358736.0   \n",
            "3              tecnocasa fuenlabrada ferrocarril       916358736.0   \n",
            "85                       sinergical inmobiliaria               NaN   \n",
            "94                               viviendas365com       911226014.0   \n",
            "109              area uno asesores inmobiliarios       912664081.0   \n",
            "...                                          ...               ...   \n",
            "15275  aliseda servicios de gestion inmobiliaria       911368198.0   \n",
            "15291                                    unipiso       912788631.0   \n",
            "15305                             jadein ferrero       914871639.0   \n",
            "15322                          gestion comercial       911220662.0   \n",
            "15325                              montehogar 68       911790675.0   \n",
            "\n",
            "                                            url_inmueble  rooms  bathrooms  \\\n",
            "1      https://www.fotocasa.es/es/comprar/vivienda/ma...    3.0        1.0   \n",
            "3      https://www.fotocasa.es/es/comprar/vivienda/ma...    3.0        1.0   \n",
            "85     https://www.fotocasa.es/es/comprar/vivienda/le...    1.0        1.0   \n",
            "94     https://www.fotocasa.es/es/comprar/vivienda/le...    3.0        2.0   \n",
            "109    https://www.fotocasa.es/es/comprar/vivienda/ma...    3.0        3.0   \n",
            "...                                                  ...    ...        ...   \n",
            "15275  https://www.fotocasa.es/es/comprar/vivienda/al...    3.0        1.0   \n",
            "15291  https://www.fotocasa.es/es/comprar/vivienda/al...    3.0        2.0   \n",
            "15305  https://www.fotocasa.es/es/comprar/vivienda/ma...    3.0        2.0   \n",
            "15322  https://www.fotocasa.es/es/comprar/vivienda/ma...    3.0        1.0   \n",
            "15325  https://www.fotocasa.es/es/comprar/vivienda/ma...    2.0        2.0   \n",
            "\n",
            "       surface   price  ... level5Id level6Id level7Id level8Id accuracy  \\\n",
            "1          NaN   89000  ...        0        0        0        0        1   \n",
            "3         86.0   89000  ...        0        0        0        0        0   \n",
            "85        50.0  107000  ...        0        0        0        0        1   \n",
            "94       120.0  320000  ...        0        0        0        0        0   \n",
            "109      142.0  425000  ...        0        0        0        0        0   \n",
            "...        ...     ...  ...      ...      ...      ...      ...      ...   \n",
            "15275     78.0  138000  ...        0        0        0        0        1   \n",
            "15291    110.0  279000  ...        0        0        0        0        0   \n",
            "15305     85.0  170000  ...        0        0        0        0        0   \n",
            "15322     91.0  112000  ...        0        0        0        0        0   \n",
            "15325     99.0  215000  ...        0        0        0        0        1   \n",
            "\n",
            "               latitude          longitude zipCode customZone          pps  \n",
            "1              40,28674           -3,79351     NaN        NaN          NaN  \n",
            "3      40,2853785786438  -3,79508142135624     NaN        NaN  1034.883721  \n",
            "85             40,35059           -3,82693     NaN        NaN  2140.000000  \n",
            "94             40,31933           -3,77574     NaN        NaN  2666.666667  \n",
            "109          40,3313411         -3,8313868     NaN        NaN  2992.957746  \n",
            "...                 ...                ...     ...        ...          ...  \n",
            "15275          40,31381           -3,83733     NaN        NaN  1769.230769  \n",
            "15291        40,3259051           -3,76318     NaN        NaN  2536.363636  \n",
            "15305        40,2882193         -3,8098617     NaN        NaN  2000.000000  \n",
            "15322          40,28282           -3,78892     NaN        NaN  1230.769231  \n",
            "15325          40,28062           -3,79869     NaN        NaN  2171.717172  \n",
            "\n",
            "[907 rows x 38 columns]\n"
          ]
        }
      ],
      "source": [
        "# TODO\n",
        "cinturon_sur = ds[ds['level5'].isin([\"Fuenlabrada\", \"Leganés\", \"Getafe\", \"Alcorcón\"])]\n",
        "print(cinturon_sur)"
      ]
    },
    {
      "attachments": {},
      "cell_type": "markdown",
      "id": "severe-fisher",
      "metadata": {},
      "source": [
        "#### Ejercicio 15. Traza un gráfico de barras de la mediana de los precios y explica lo que observas (debes usar el subconjunto obtenido del Ejercicio 14) (★★★)\n",
        "\n",
        "Imprima un gráfico de barras de la mediana de precios y escriba en la celda Markdown un breve análisis sobre el gráfico."
      ]
    },
    {
      "cell_type": "code",
      "execution_count": 70,
      "id": "lyric-bunch",
      "metadata": {},
      "outputs": [
        {
          "data": {
            "image/png": "[encoded data removed]",
            "text/plain": [
              "<Figure size 640x480 with 1 Axes>"
            ]
          },
          "metadata": {},
          "output_type": "display_data"
        }
      ],
      "source": [
        "# TODO: Code\n",
        "medianas_precios = cinturon_sur.groupby('level5')['price'].median()\n",
        "medianas_precios.plot(kind='bar', color='skyblue', edgecolor='black')\n",
        "\n",
        "plt.title('Mediana de Precios por Población (Cinturón Sur)')\n",
        "plt.xlabel('Población')\n",
        "plt.ylabel('Mediana de Precios (USD)')\n",
        "plt.xticks(rotation=45)\n",
        "plt.tight_layout()\n",
        "plt.show()\n"
      ]
    },
    {
      "attachments": {},
      "cell_type": "markdown",
      "id": "sublime-newspaper",
      "metadata": {},
      "source": [
        "**TODO: Markdown**. Para escribir aquí, haz doble clic en esta celda, elimina este contenido y coloca lo que quieras escribir. Luego ejecuta la celda."
      ]
    },
    {
      "attachments": {},
      "cell_type": "markdown",
      "id": "speaking-diamond",
      "metadata": {},
      "source": [
        "#### Ejercicio 16. Calcula la media y la varianza de muestra para las siguientes variables: precio, habitaciones, superficie y baños (debes usar el subconjunto obtenido del Ejercicio 14) (★★★)\n",
        "\n",
        "Imprime ambos valores por cada variable."
      ]
    },
    {
      "cell_type": "code",
      "execution_count": 71,
      "id": "random-feeling",
      "metadata": {},
      "outputs": [
        {
          "name": "stdout",
          "output_type": "stream",
          "text": [
            "Variable: price\n",
            "  Media: 223094.48\n",
            "  Varianza: 14921367508.05\n",
            "\n",
            "Variable: rooms\n",
            "  Media: 3.02\n",
            "  Varianza: 0.72\n",
            "\n",
            "Variable: surface\n",
            "  Media: 111.75\n",
            "  Varianza: 4263.05\n",
            "\n",
            "Variable: bathrooms\n",
            "  Media: 1.63\n",
            "  Varianza: 0.57\n",
            "\n"
          ]
        }
      ],
      "source": [
        "# TODO\n",
        "variables = ['price', 'rooms', 'surface', 'bathrooms']\n",
        "\n",
        "for variable in variables:\n",
        "    media = cinturon_sur[variable].mean()\n",
        "    varianza = cinturon_sur[variable].var()\n",
        "    print(f\"Variable: {variable}\")\n",
        "    print(f\"  Media: {media:.2f}\")\n",
        "    print(f\"  Varianza: {varianza:.2f}\")\n",
        "    print()"
      ]
    },
    {
      "attachments": {},
      "cell_type": "markdown",
      "id": "revolutionary-matrix",
      "metadata": {},
      "source": [
        "#### Ejercicio 17. ¿Cuál es la casa más cara de cada población? Debes usar el subset obtenido en la pregunta 14 (★★☆)\n",
        "\n",
        "Imprime tanto la dirección como el precio de la casa seleccionada de cada población. Puedes imprimir un DataFrame o una sola línea para cada población."
      ]
    },
    {
      "cell_type": "code",
      "execution_count": 72,
      "id": "fifteen-browse",
      "metadata": {},
      "outputs": [
        {
          "name": "stdout",
          "output_type": "stream",
          "text": [
            "            level5  level2    price\n",
            "5585      Alcorcón  Madrid   950000\n",
            "11561  Fuenlabrada  Madrid   490000\n",
            "2881        Getafe  Madrid  1050000\n",
            "10412      Leganés  Madrid   650000\n"
          ]
        }
      ],
      "source": [
        "# TODO\n",
        "casas_mas_caras = cinturon_sur.loc[cinturon_sur.groupby('level5')['price'].idxmax()]\n",
        "\n",
        "print(casas_mas_caras[['level5', 'level2', 'price']])"
      ]
    },
    {
      "attachments": {},
      "cell_type": "markdown",
      "id": "activated-knight",
      "metadata": {},
      "source": [
        "#### Ejercicio 18. Normaliza la variable de precios para cada población y traza los 4 histogramas en el mismo gráfico (debes usar el subconjunto obtenido en la pregunta 14) (★★★)\n",
        "\n",
        "Para el método de normalización, puedes usar el que consideres adecuado, no hay una única respuesta correcta para esta pregunta. Imprime el gráfico y escribe en la celda de Markdown un breve análisis sobre el gráfico.\n",
        "\n",
        "Pista: Puedes ayudarte revisando la demostración multihist de Matplotlib."
      ]
    },
    {
      "cell_type": "code",
      "execution_count": 73,
      "id": "civic-meditation",
      "metadata": {},
      "outputs": [
        {
          "name": "stderr",
          "output_type": "stream",
          "text": [
            "/tmp/ipykernel_521/2228492578.py:3: SettingWithCopyWarning: \n",
            "A value is trying to be set on a copy of a slice from a DataFrame.\n",
            "Try using .loc[row_indexer,col_indexer] = value instead\n",
            "\n",
            "See the caveats in the documentation: https://pandas.pydata.org/pandas-docs/stable/user_guide/indexing.html#returning-a-view-versus-a-copy\n",
            "  cinturon_sur['price_normalized'] = cinturon_sur.groupby('level5')['price'].transform(\n"
          ]
        }
      ],
      "source": [
        "# TODO\n",
        "\n",
        "cinturon_sur['price_normalized'] = cinturon_sur.groupby('level5')['price'].transform(\n",
        "    lambda x: (x - x.min()) / (x.max() - x.min())\n",
        ")\n",
        "\n"
      ]
    },
    {
      "attachments": {},
      "cell_type": "markdown",
      "id": "precise-heavy",
      "metadata": {},
      "source": [
        "**TODO: Markdown**. Para escribir aquí, haz doble clic en esta celda, elimina este contenido y coloca lo que quieras escribir. Luego ejecuta la celda."
      ]
    },
    {
      "attachments": {},
      "cell_type": "markdown",
      "id": "patent-jonathan",
      "metadata": {},
      "source": [
        "#### Ejercicio 19. ¿Qué puedes decir sobre el precio por metro cuadrado (precio/m2) entre los municipios de 'Getafe' y 'Alcorcón'? Debes usar el subconjunto obtenido en la pregunta 14 (★★☆)\n",
        "\n",
        "Pista: Crea una nueva columna llamada `pps` (price per square en inglés) y luego analiza los valores"
      ]
    },
    {
      "cell_type": "code",
      "execution_count": 74,
      "id": "initial-liverpool",
      "metadata": {},
      "outputs": [
        {
          "name": "stdout",
          "output_type": "stream",
          "text": [
            "El precio promedio por metro cuadrado en Getafe es de 2066.31 USD/metro cuadrado\n",
            "El precio promedio por metro cuadrado en Alcorcón es de 2239.30 USD/metro cuadrado\n",
            "El precio por metro cuadrado es mayor en Alcorcón que en Getafe.\n"
          ]
        },
        {
          "name": "stderr",
          "output_type": "stream",
          "text": [
            "/tmp/ipykernel_521/1861751651.py:2: SettingWithCopyWarning: \n",
            "A value is trying to be set on a copy of a slice from a DataFrame.\n",
            "Try using .loc[row_indexer,col_indexer] = value instead\n",
            "\n",
            "See the caveats in the documentation: https://pandas.pydata.org/pandas-docs/stable/user_guide/indexing.html#returning-a-view-versus-a-copy\n",
            "  cinturon_sur['pps'] = cinturon_sur['price'] / cinturon_sur['surface']\n"
          ]
        }
      ],
      "source": [
        "# TODO\n",
        "cinturon_sur['pps'] = cinturon_sur['price'] / cinturon_sur['surface']\n",
        "\n",
        "# Getafe y Alcorcón\n",
        "getafe = cinturon_sur[cinturon_sur['level5'] == 'Getafe']\n",
        "alcorcon = cinturon_sur[cinturon_sur['level5'] == 'Alcorcón']\n",
        "\n",
        "# Promedio\n",
        "promedio_pps_getafe = getafe['pps'].mean()\n",
        "promedio_pps_alcorcon = alcorcon['pps'].mean()\n",
        "\n",
        "print(f\"El precio promedio por metro cuadrado en Getafe es de {promedio_pps_getafe:.2f} USD/metro cuadrado\")\n",
        "print(f\"El precio promedio por metro cuadrado en Alcorcón es de {promedio_pps_alcorcon:.2f} USD/metro cuadrado\")\n",
        "\n",
        "# Comparar los precios\n",
        "if promedio_pps_getafe > promedio_pps_alcorcon:\n",
        "    print(\"El precio por metro cuadrado es mayor en Getafe que en Alcorcón.\")\n",
        "elif promedio_pps_getafe < promedio_pps_alcorcon:\n",
        "    print(\"El precio por metro cuadrado es mayor en Alcorcón que en Getafe.\")"
      ]
    },
    {
      "attachments": {},
      "cell_type": "markdown",
      "id": "enhanced-moscow",
      "metadata": {},
      "source": [
        "#### Ejercicio 20. Realiza el mismo gráfico para 4 poblaciones diferentes (columna level5) y colócalos en el mismo gráfico. Debes usar el subconjunto obtenido en la pregunta 14 (★★☆) \n",
        "Pista: Haz un diagrama de dispersión de cada población usando subgráficos (subplots)."
      ]
    },
    {
      "cell_type": "code",
      "execution_count": 75,
      "id": "accepting-airfare",
      "metadata": {},
      "outputs": [
        {
          "data": {
            "image/png": "[encoded data removed]",
            "text/plain": [
              "<Figure size 1200x800 with 4 Axes>"
            ]
          },
          "metadata": {},
          "output_type": "display_data"
        }
      ],
      "source": [
        "# TODO\n",
        "plt.show()\n",
        "\n",
        "poblaciones = [\"Fuenlabrada\", \"Leganés\", \"Getafe\", \"Alcorcón\"]\n",
        "\n",
        "# Crear subgráficos\n",
        "fig, axes = plt.subplots(2, 2, figsize=(12, 8), sharex=True, sharey=True)\n",
        "\n",
        "for poblacion, ax in zip(poblaciones, axes.flatten()):\n",
        "    subset = cinturon_sur[cinturon_sur['level5'] == poblacion]\n",
        "    ax.scatter(subset['surface'], subset['price'], alpha=0.7, label=poblacion, color='blue')\n",
        "    ax.set_title(poblacion)\n",
        "    ax.set_xlabel('Superficie (m²)')\n",
        "    ax.set_ylabel('Precio (USD)')\n",
        "    ax.legend()\n",
        "\n",
        "# Ajustar diseño\n",
        "plt.tight_layout()\n",
        "plt.show()\n",
        "\n"
      ]
    },
    {
      "attachments": {},
      "cell_type": "markdown",
      "id": "blocked-effects",
      "metadata": {},
      "source": [
        "#### Ejercicio 21. Realiza un trazado de las coordenadas (columnas latitud y longitud) del cinturón sur de Madrid por color de cada población (debes usar el subconjunto obtenido del Ejercicio 14) (★★★★)\n",
        "\n",
        "Ejecuta la siguiente celda y luego comienza a codear en la siguiente. Debes implementar un código simple que transforme las columnas de coordenadas en un diccionario de Python (agrega más información si es necesario) y agrégala al mapa."
      ]
    },
    {
      "cell_type": "code",
      "execution_count": 76,
      "id": "headed-privacy",
      "metadata": {},
      "outputs": [
        {
          "data": {
            "application/vnd.jupyter.widget-view+json": {
              "model_id": "310cb8b53ecf4d51baa6404335d013d0",
              "version_major": 2,
              "version_minor": 0
            },
            "text/plain": [
              "Map(center=[40.35, -3.8], controls=(ZoomControl(options=['position', 'zoom_in_text', 'zoom_in_title', 'zoom_ou…"
            ]
          },
          "execution_count": 76,
          "metadata": {},
          "output_type": "execute_result"
        }
      ],
      "source": [
        "from ipyleaflet import Map, basemaps\n",
        "\n",
        "# Mapa centrado en Madrid\n",
        "map = Map(center = (40.35, -3.8), zoom = 11.5, min_zoom = 1, max_zoom = 20, \n",
        "    basemap=basemaps.OpenStreetMap.Mapnik)\n",
        "map"
      ]
    },
    {
      "cell_type": "code",
      "execution_count": 77,
      "id": "present-mistress",
      "metadata": {},
      "outputs": [
        {
          "data": {
            "application/vnd.jupyter.widget-view+json": {
              "model_id": "ff2a9fac2dc74c69bf472ff3f8708333",
              "version_major": 2,
              "version_minor": 0
            },
            "text/plain": [
              "Map(center=[40.35, -3.8], controls=(ZoomControl(options=['position', 'zoom_in_text', 'zoom_in_title', 'zoom_ou…"
            ]
          },
          "execution_count": 77,
          "metadata": {},
          "output_type": "execute_result"
        }
      ],
      "source": [
        "## Aquí: traza la coordenadas de los estados\n",
        "\n",
        "## PON TU CÓDIGO AQUÍ:\n",
        "# Colores para cada población\n",
        "\n",
        "from ipyleaflet import Map, Marker, LayerGroup\n",
        "\n",
        "# mapa Madrid\n",
        "mapa = Map(center=(40.35, -3.8), zoom=11.5, basemap=basemaps.OpenStreetMap.Mapnik)\n",
        "\n",
        "# Colores\n",
        "colores = {\n",
        "    \"Fuenlabrada\": \"negro\",\n",
        "    \"Leganés\": \"plomo\",\n",
        "    \"Getafe\": \"rosado\",\n",
        "    \"Alcorcón\": \"azul\"\n",
        "}\n",
        "\n",
        "# Marcadores al mapa\n",
        "for poblacion, color in colores.items():\n",
        "    subset = cinturon_sur[cinturon_sur['level5'] == poblacion]\n",
        "    marcadores = []\n",
        "    for _, fila in subset.iterrows():\n",
        "        marcador = Marker(location=(fila['latitude'], fila['longitude']), draggable=False, icon_color=color)\n",
        "        marcadores.append(marcador)\n",
        "    grupo = LayerGroup(layers=marcadores)\n",
        "    mapa.add_layer(grupo)\n",
        "\n",
        "mapa"
      ]
    }
  ],
  "metadata": {
    "kernelspec": {
      "display_name": "Python 3",
      "language": "python",
      "name": "python3"
    },
    "language_info": {
      "codemirror_mode": {
        "name": "ipython",
        "version": 3
      },
      "file_extension": ".py",
      "mimetype": "text/x-python",
      "name": "python",
      "nbconvert_exporter": "python",
      "pygments_lexer": "ipython3",
      "version": "3.11.4"
    }
  },
  "nbformat": 4,
  "nbformat_minor": 5
}
